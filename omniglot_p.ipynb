{
  "nbformat": 4,
  "nbformat_minor": 0,
  "metadata": {
    "colab": {
      "name": "omniglot p",
      "provenance": [],
      "collapsed_sections": [],
      "authorship_tag": "ABX9TyPZSXAEcgDDq7VIEFU3GHdI",
      "include_colab_link": true
    },
    "kernelspec": {
      "name": "python3",
      "display_name": "Python 3"
    },
    "accelerator": "GPU"
  },
  "cells": [
    {
      "cell_type": "markdown",
      "metadata": {
        "id": "view-in-github",
        "colab_type": "text"
      },
      "source": [
        "<a href=\"https://colab.research.google.com/github/nikitach5/One-shot_siamesenetwork/blob/master/omniglot_p.ipynb\" target=\"_parent\"><img src=\"https://colab.research.google.com/assets/colab-badge.svg\" alt=\"Open In Colab\"/></a>"
      ]
    },
    {
      "cell_type": "code",
      "metadata": {
        "id": "oCYs1sfOvrzt",
        "colab_type": "code",
        "colab": {
          "base_uri": "https://localhost:8080/",
          "height": 51
        },
        "outputId": "af9a3b8f-cd83-4db9-c265-14409b8ffe0f"
      },
      "source": [
        "!mkdir dataset\n",
        "!wget --no-verbose --no-check-certificate https://github.com/brendenlake/omniglot/raw/master/python/images_background.zip -O ./dataset/images_background.zip\n",
        "!wget --no-verbose --no-check-certificate https://github.com/brendenlake/omniglot/raw/master/python/images_evaluation.zip -O ./dataset/images_evaluation.zip\n",
        "\n",
        "!unzip -qq ./dataset/images_background.zip -d ./dataset/\n",
        "!unzip -qq ./dataset/images_evaluation.zip -d ./dataset/\n"
      ],
      "execution_count": null,
      "outputs": [
        {
          "output_type": "stream",
          "text": [
            "2020-07-18 06:12:44 URL:https://raw.githubusercontent.com/brendenlake/omniglot/master/python/images_background.zip [9464212/9464212] -> \"./dataset/images_background.zip\" [1]\n",
            "2020-07-18 06:12:53 URL:https://raw.githubusercontent.com/brendenlake/omniglot/master/python/images_evaluation.zip [6462886/6462886] -> \"./dataset/images_evaluation.zip\" [1]\n"
          ],
          "name": "stdout"
        }
      ]
    },
    {
      "cell_type": "code",
      "metadata": {
        "id": "RIhoDxSfcej6",
        "colab_type": "code",
        "colab": {
          "base_uri": "https://localhost:8080/",
          "height": 51
        },
        "outputId": "d815dcb0-c1f7-4f3e-8b74-65bbb6741d7b"
      },
      "source": [
        "import tensorflow as tf\n",
        "from tensorflow.keras.applications.vgg16 import preprocess_input, VGG16\n",
        "from tensorflow.keras.layers import Input, Conv2D, Lambda,Dense, Flatten,MaxPooling2D\n",
        "from tensorflow.keras.models import Model, Sequential\n",
        "from tensorflow.keras.regularizers import l2\n",
        "from tensorflow.keras import backend as K\n",
        "from tensorflow.keras.optimizers import SGD,Adam\n",
        "from tensorflow.keras.losses import binary_crossentropy\n",
        "import numpy as np\n",
        "from glob import glob\n",
        "import os\n",
        "import pickle\n",
        "import cv2\n",
        "import time\n",
        "import pandas as pd\n",
        "import matplotlib.pyplot as plt\n",
        "import seaborn as sns\n",
        "from sklearn.utils import shuffle\n",
        "from IPython.display import HTML, display\n",
        "%matplotlib inline"
      ],
      "execution_count": null,
      "outputs": [
        {
          "output_type": "stream",
          "text": [
            "/usr/local/lib/python3.6/dist-packages/statsmodels/tools/_testing.py:19: FutureWarning: pandas.util.testing is deprecated. Use the functions in the public API at pandas.testing instead.\n",
            "  import pandas.util.testing as tm\n"
          ],
          "name": "stderr"
        }
      ]
    },
    {
      "cell_type": "code",
      "metadata": {
        "id": "vGAjshngrmdA",
        "colab_type": "code",
        "colab": {}
      },
      "source": [
        "dataset_dir = './dataset/'\n",
        "alphabets = glob('{}/images_background/*'.format(dataset_dir))"
      ],
      "execution_count": null,
      "outputs": []
    },
    {
      "cell_type": "code",
      "metadata": {
        "id": "4UW-niQCeSnN",
        "colab_type": "code",
        "colab": {}
      },
      "source": [
        "dataset={}\n",
        "for alpha in alphabets:\n",
        "    directory = glob('{}/*'.format(alpha))\n",
        "    alphabet = {}\n",
        "    for dir_name in directory:\n",
        "        alphabet[dir_name] = glob('{}/*'.format(dir_name))\n",
        "    dataset[alpha] = alphabet        \n"
      ],
      "execution_count": null,
      "outputs": []
    },
    {
      "cell_type": "code",
      "metadata": {
        "id": "ZVAhcaBIfG4A",
        "colab_type": "code",
        "colab": {}
      },
      "source": [
        "IMAGE_SHAPE = (105,105, 3)\n",
        "\n",
        "# make train set\n",
        "trainset = {}\n",
        "for cat, alphabet_dict in dataset.items():\n",
        "    alphabet = {}\n",
        "    for subcat, names in alphabet_dict.items():\n",
        "        alphabet[subcat] = np.random.choice(names, 10)\n",
        "    trainset[cat] = alphabet\n",
        "\n",
        " # make valid set\n",
        "validset = {}\n",
        "for cat, alphabet_dict in dataset.items():\n",
        "    alphabet = {}\n",
        "    for subcat, names in alphabet_dict.items():\n",
        "        train_names = trainset[cat][subcat]\n",
        "        valid_names = list(set(names).difference(set(train_names)))\n",
        "        alphabet[subcat] = np.random.choice(valid_names, 4)\n",
        "    validset[cat] = alphabet   "
      ],
      "execution_count": null,
      "outputs": []
    },
    {
      "cell_type": "code",
      "metadata": {
        "id": "BuoBnY73hNmS",
        "colab_type": "code",
        "colab": {
          "base_uri": "https://localhost:8080/",
          "height": 34
        },
        "outputId": "4a819bb0-d007-4763-f935-80c3a5b44833"
      },
      "source": [
        "#for check only\n",
        "x = len(trainset)\n",
        "print(x)"
      ],
      "execution_count": null,
      "outputs": [
        {
          "output_type": "stream",
          "text": [
            "30\n"
          ],
          "name": "stdout"
        }
      ]
    },
    {
      "cell_type": "code",
      "metadata": {
        "id": "oJL3UgNmd1mj",
        "colab_type": "code",
        "colab": {}
      },
      "source": [
        "def generate_oneshot_trial(dataset, batch_size=10, num_chars=20):\n",
        "    data_1 = []    \n",
        "    data_2 = []\n",
        "    targets = []\n",
        "    for alphabet_index in np.random.randint(0, len(dataset), batch_size//2):\n",
        "        alphabet = list(dataset.keys())[alphabet_index]\n",
        "        alphabet_items = list(dataset[alphabet].items())\n",
        "        characters = np.random.randint(0, len(alphabet_items), num_chars)\n",
        "\n",
        "        # we kept 10 samples from each character in trainset and 4 in validset\n",
        "        num_samples = len(alphabet_items[0][1])        \n",
        "        drawers = np.random.randint(0, num_samples, 2)\n",
        "        # create two entries for both matching and non-matching pairs\n",
        "        img_list = [alphabet_items[characters[0]][1][drawers[0]]] * 2\n",
        "        data_1.extend(img_list)\n",
        "        targets.append(1)\n",
        "        \n",
        "        data_2.append(alphabet_items[characters[0]][1][drawers[1]])\n",
        "        data_2.append(alphabet_items[characters[1]][1][drawers[1]])\n",
        "        targets.append(0)\n",
        "                \n",
        "    return [data_1, data_2], np.array(targets).reshape((batch_size, 1))"
      ],
      "execution_count": null,
      "outputs": []
    },
    {
      "cell_type": "code",
      "metadata": {
        "id": "gblS9b9beNJy",
        "colab_type": "code",
        "colab": {}
      },
      "source": [
        "x_train, y_train = generate_oneshot_trial(trainset, batch_size=10 )"
      ],
      "execution_count": null,
      "outputs": []
    },
    {
      "cell_type": "code",
      "metadata": {
        "id": "fISeYJZomqfy",
        "colab_type": "code",
        "colab": {
          "base_uri": "https://localhost:8080/",
          "height": 466
        },
        "outputId": "607a285a-d474-4233-d06e-78804219b13f"
      },
      "source": [
        "#display train data\n",
        "figure, axes = plt.subplots(10, 3, figsize=(8,8))\n",
        "for i in range(10):\n",
        "    axes[i, 0].imshow(cv2.imread(x_train[0][i], cv2.IMREAD_COLOR), cmap='gray')\n",
        "    axes[i, 0].axis('off')\n",
        "    axes[i, 1].imshow(cv2.imread(x_train[1][i], cv2.IMREAD_COLOR), cmap='gray')\n",
        "    axes[i, 1].axis('off')\n",
        "    axes[i, 2].text(0.5, 0.5, 'similar' if y_train[i] == 1 else 'dissimilar')\n",
        "    axes[i, 2].axis('off')\n",
        "    \n",
        "plt.show()"
      ],
      "execution_count": null,
      "outputs": [
        {
          "output_type": "display_data",
          "data": {
            "image/png": "[encoded data removed]",
            "text/plain": [
              "<Figure size 576x576 with 30 Axes>"
            ]
          },
          "metadata": {
            "tags": [],
            "needs_background": "light"
          }
        }
      ]
    },
    {
      "cell_type": "code",
      "metadata": {
        "id": "cADk5HrxofWC",
        "colab_type": "code",
        "colab": {}
      },
      "source": [
        "def generate_oneshot_test_trial(dataset, n_way=20):\n",
        "    index = np.random.randint(0, len(dataset), 1)[0]\n",
        "    alphabet = list(dataset.keys())[index]\n",
        "    alphabet_items = list(dataset[alphabet].items())\n",
        "    \n",
        "    char_idx = np.random.randint(0, len(alphabet_items), 20)\n",
        "    \n",
        "    num_samples = len(alphabet_items[0][1])\n",
        "    drawers = np.random.randint(0, num_samples, 2)\n",
        "\n",
        "    \n",
        "    test_images = []\n",
        "    train_images = []\n",
        "    for i in range(n_way):\n",
        "        test_images.append(alphabet_items[char_idx[i]][1][drawers[0]])\n",
        "        train_images.append(alphabet_items[char_idx[i]][1][drawers[1]])\n",
        "    \n",
        "    return (test_images, train_images)"
      ],
      "execution_count": null,
      "outputs": []
    },
    {
      "cell_type": "code",
      "metadata": {
        "id": "SFXuGuywpeHH",
        "colab_type": "code",
        "colab": {}
      },
      "source": [
        "def load_images(names, shape):\n",
        "    batch = np.empty((len(names), *shape), dtype=np.uint8)\n",
        "    for i, name in enumerate(names):\n",
        "        #batch[i,...] = np.expand_dims(cv2.imread(name, cv2.IMREAD_COLOR), axis=2)\n",
        "        img = cv2.imread(name, cv2.IMREAD_GRAYSCALE)\n",
        "        img = preprocess_input(cv2.resize(img, (shape[1], shape[0]))) #  preprocess_input needed because VGG16\n",
        "        batch[i,...] = np.expand_dims(img, axis=2) \n",
        "    \n",
        "    return batch"
      ],
      "execution_count": null,
      "outputs": []
    },
    {
      "cell_type": "code",
      "metadata": {
        "id": "hmmmFqGDpv-2",
        "colab_type": "code",
        "colab": {}
      },
      "source": [
        "def load_paired_images(names, shape):\n",
        "    image1 = np.empty((len(names[0]), *shape), dtype=np.uint8)\n",
        "    image2 = np.empty((len(names[1]), *shape), dtype=np.uint8)\n",
        "    for i, name in enumerate(zip(names[0], names[1])):\n",
        "        #image1[i,...] = np.expand_dims(cv2.imread(name[0], cv2.IMREAD_COLOR), axis=2)\n",
        "        #image2[i,...] = np.expand_dims(cv2.imread(name[1], cv2.IMREAD_COLOR), axis=2)\n",
        "        img1 = cv2.imread(name[0], cv2.IMREAD_GRAYSCALE)\n",
        "        img1 = preprocess_input(cv2.resize(img1, (shape[1], shape[0])))\n",
        "        img2 = cv2.imread(name[1], cv2.IMREAD_GRAYSCALE)\n",
        "        img2 = preprocess_input(cv2.resize(img2, (shape[1], shape[0])))\n",
        "        image1[i,...] = np.expand_dims(img1, axis=2)\n",
        "        image2[i,...] = np.expand_dims(img2, axis=2)\n",
        "    \n",
        "    return [image1 , image2]"
      ],
      "execution_count": null,
      "outputs": []
    },
    {
      "cell_type": "code",
      "metadata": {
        "id": "mlME1a72qVTy",
        "colab_type": "code",
        "colab": {}
      },
      "source": [
        "def test_model(model, dataset=validset, rounds=1):\n",
        "    # do it for n images\n",
        "    total_corrects = 0\n",
        "    for n in range(rounds):\n",
        "        (test_image_names, train_image_names) = generate_oneshot_test_trial(dataset, 20)\n",
        "        test_images = load_images(test_image_names, IMAGE_SHAPE)\n",
        "        train_images = load_images(train_image_names, IMAGE_SHAPE)    \n",
        "        \n",
        "        corrects = 0\n",
        "        for i in range(len(test_images)):\n",
        "            images = np.tile(test_images[i], (len(train_images), 1, 1, 1))\n",
        "            preds = model.predict([images, train_images])\n",
        "            pred_idx = np.argmax(preds, axis=0)[0]\n",
        "            # check they belong to same character or not\n",
        "            test_char_name = test_image_names[i].split('/')[-2]\n",
        "            pred_char_name = train_image_names[pred_idx].split('/')[-2]\n",
        "            corrects += 1 if test_char_name == pred_char_name else 0\n",
        "        \n",
        "        total_corrects += corrects/len(train_image_names)\n",
        "    \n",
        "    return total_corrects/rounds"
      ],
      "execution_count": null,
      "outputs": []
    },
    {
      "cell_type": "code",
      "metadata": {
        "id": "U3hwY9yVGek0",
        "colab_type": "code",
        "colab": {}
      },
      "source": [
        "def display_validation_test(model, dataset=validset):\n",
        "    (test_image_names, train_image_names) = generate_oneshot_test_trial(dataset, 20)\n",
        "    test_images = load_images(test_image_names, IMAGE_SHAPE)\n",
        "    train_images = load_images(train_image_names, IMAGE_SHAPE)\n",
        "\n",
        "    idx = np.random.randint(0, len(test_images))\n",
        "    \n",
        "    images = np.tile(test_images[idx], (len(train_images), 1, 1, 1))\n",
        "    preds = model.predict([images, train_images])\n",
        "    pred_idx = np.argmax(preds, axis=0)[0]\n",
        "    print('Alphabet: {}'.format(test_image_names[idx].split('/')[-3]))\n",
        "    \n",
        "    # check they belong to same character\n",
        "    test_char_name = test_image_names[idx].split('/')[-2]\n",
        "    pred_char_name = train_image_names[pred_idx].split('/')[-2]\n",
        "    correct = 1 if test_char_name == pred_char_name else 0\n",
        "    plt.imshow(images[idx], cmap='gray')\n",
        "    plt.axis('off')\n",
        "    plt.annotate(test_image_names[idx].split('/')[-2], (0.0, 0.0), textcoords='axes fraction', size=10)\n",
        "    plt.show()\n",
        "\n",
        "    print('*'*100)\n",
        "    print('Which of the following match above?')\n",
        "    fig, axes = plt.subplots(4, 5, figsize=(10,10))\n",
        "    ctr = 0\n",
        "    print('Predicted index: {}, name: {}, actual: {}'.format(pred_idx, pred_char_name, test_char_name))\n",
        "    \n",
        "    for i in range(4):\n",
        "        for j in range(5):\n",
        "            class_name = train_image_names[ctr].split('/')[-2]\n",
        "            axes[i, j].imshow(train_images[ctr], cmap='gray')\n",
        "            axes[i, j].annotate(class_name, (0.0, 0.0), textcoords='axes fraction', size=10)\n",
        "            axes[i, j].axis('off')                         \n",
        "            ctr += 1\n",
        "\n",
        "    plt.show()   \n",
        "  "
      ],
      "execution_count": null,
      "outputs": []
    },
    {
      "cell_type": "code",
      "metadata": {
        "id": "axmymZdYbUtO",
        "colab_type": "code",
        "colab": {}
      },
      "source": [
        "def build_tl_model():\n",
        "  input1 = Input(shape=(105,105,3))\n",
        "  input2 = Input(shape=(105,105,3))\n",
        "\n",
        "  base_model = VGG16(input_shape=(105,105,3), include_top=False, weights='imagenet') \n",
        "  base_model.trainable = False \n",
        "\n",
        "  model = tf.keras.models.Sequential([\n",
        "    # Feature extractor \n",
        "    base_model,\n",
        "\n",
        "    # Flatten and use the attribute given the question to build the dense part\n",
        "   \n",
        "    tf.keras.layers.Flatten(),\n",
        "    tf.keras.layers.Dense(4096, activation=tf.nn.sigmoid)\n",
        "  ])\n",
        "  encoded1 = model(input1)\n",
        "  encoded2 = model(input2)\n",
        "  L1_layer = Lambda(lambda tensors:K.abs(tensors[0] - tensors[1]))\n",
        "  L1_distance = L1_layer([encoded1, encoded2])\n",
        "    \n",
        "    \n",
        "  prediction = Dense(1,activation='sigmoid')(L1_distance)\n",
        "  siamese_model = Model(inputs=[input1,input2],outputs=prediction)\n",
        "\n",
        "  return siamese_model"
      ],
      "execution_count": null,
      "outputs": []
    },
    {
      "cell_type": "code",
      "metadata": {
        "id": "9RYP7hsuwKTJ",
        "colab_type": "code",
        "colab": {
          "base_uri": "https://localhost:8080/",
          "height": 391
        },
        "outputId": "03bb6a13-2768-4ab6-d9c7-b80738107991"
      },
      "source": [
        "siamese_model = build_tl_model()\n",
        "siamese_model.compile(loss='binary_crossentropy', optimizer=tf.keras.optimizers.Adam(0.00001), metrics=['accuracy'])\n",
        "siamese_model.summary()  \n",
        "\n"
      ],
      "execution_count": null,
      "outputs": [
        {
          "output_type": "stream",
          "text": [
            "Downloading data from https://storage.googleapis.com/tensorflow/keras-applications/vgg16/vgg16_weights_tf_dim_ordering_tf_kernels_notop.h5\n",
            "58892288/58889256 [==============================] - 1s 0us/step\n",
            "Model: \"model\"\n",
            "__________________________________________________________________________________________________\n",
            "Layer (type)                    Output Shape         Param #     Connected to                     \n",
            "==================================================================================================\n",
            "input_1 (InputLayer)            [(None, 105, 105, 3) 0                                            \n",
            "__________________________________________________________________________________________________\n",
            "input_2 (InputLayer)            [(None, 105, 105, 3) 0                                            \n",
            "__________________________________________________________________________________________________\n",
            "sequential (Sequential)         (None, 4096)         33593152    input_1[0][0]                    \n",
            "                                                                 input_2[0][0]                    \n",
            "__________________________________________________________________________________________________\n",
            "lambda (Lambda)                 (None, 4096)         0           sequential[1][0]                 \n",
            "                                                                 sequential[2][0]                 \n",
            "__________________________________________________________________________________________________\n",
            "dense_1 (Dense)                 (None, 1)            4097        lambda[0][0]                     \n",
            "==================================================================================================\n",
            "Total params: 33,597,249\n",
            "Trainable params: 18,882,561\n",
            "Non-trainable params: 14,714,688\n",
            "__________________________________________________________________________________________________\n"
          ],
          "name": "stdout"
        }
      ]
    },
    {
      "cell_type": "code",
      "metadata": {
        "id": "4d-liO4yW6Ww",
        "colab_type": "code",
        "colab": {}
      },
      "source": [
        "image_shape = (105,105,3)\n",
        "evaluate_every = 500 # interval for evaluating on one-shot tasks\n",
        "validate_every = 500\n",
        "batch_size = 32\n",
        "epochs = 5000 # No. of training iterations"
      ],
      "execution_count": null,
      "outputs": []
    },
    {
      "cell_type": "code",
      "metadata": {
        "id": "RpHzhF8Qnlx2",
        "colab_type": "code",
        "colab": {
          "base_uri": "https://localhost:8080/",
          "height": 391
        },
        "outputId": "1bd56bcf-1973-4fc9-c38b-a156f28e40ea"
      },
      "source": [
        "print(\"Starting training process!\")\n",
        "print(\"-------------------------------------\")\n",
        "\n",
        "for i in range(epochs):\n",
        "      (names,targets) = generate_oneshot_trial(trainset, batch_size)\n",
        "      batch = load_paired_images(names, image_shape)  \n",
        "      hist = siamese_model.train_on_batch(batch, targets)\n",
        "      if i % evaluate_every == 0:\n",
        "        print(\"Train Loss: {0}, Accuracy: {1}\".format(*hist)) \n",
        "\n",
        "      if i % validate_every == 0:\n",
        "        acc = test_model(siamese_model, dataset=validset, rounds =20)\n",
        "        print('Validation acc: {}'.format(acc))\n",
        "        "
      ],
      "execution_count": null,
      "outputs": [
        {
          "output_type": "stream",
          "text": [
            "Starting training process!\n",
            "-------------------------------------\n",
            "Train Loss: 0.38508257269859314, Accuracy: 0.8812500238418579\n",
            "Validation acc: 0.4175\n",
            "Train Loss: 0.3164554238319397, Accuracy: 0.875\n",
            "Validation acc: 0.5200000000000001\n",
            "Train Loss: 0.411338746547699, Accuracy: 0.90625\n",
            "Validation acc: 0.545\n",
            "Train Loss: 0.3270224928855896, Accuracy: 0.90625\n",
            "Validation acc: 0.48\n",
            "Train Loss: 0.2853401303291321, Accuracy: 0.90625\n",
            "Validation acc: 0.52\n",
            "Train Loss: 0.3265496790409088, Accuracy: 0.90625\n",
            "Validation acc: 0.5125\n",
            "Train Loss: 0.3205486536026001, Accuracy: 0.875\n",
            "Validation acc: 0.5275\n",
            "Train Loss: 0.2986105978488922, Accuracy: 0.96875\n",
            "Validation acc: 0.6900000000000002\n",
            "Train Loss: 0.31255000829696655, Accuracy: 0.9375\n",
            "Validation acc: 0.5775\n",
            "Train Loss: 0.268726110458374, Accuracy: 0.90625\n",
            "Validation acc: 0.5674999999999999\n"
          ],
          "name": "stdout"
        }
      ]
    },
    {
      "cell_type": "code",
      "metadata": {
        "id": "F3VZqBMHoUkW",
        "colab_type": "code",
        "colab": {
          "base_uri": "https://localhost:8080/",
          "height": 890
        },
        "outputId": "6f01d5f2-e287-4f64-8260-f876f84e7868"
      },
      "source": [
        "display_validation_test(siamese_model)"
      ],
      "execution_count": null,
      "outputs": [
        {
          "output_type": "stream",
          "text": [
            "Alphabet: Hebrew\n"
          ],
          "name": "stdout"
        },
        {
          "output_type": "stream",
          "text": [
            "/usr/local/lib/python3.6/dist-packages/ipykernel_launcher.py:19: UserWarning: You have used the `textcoords` kwarg, but not the `xytext` kwarg.  This can lead to surprising results.\n"
          ],
          "name": "stderr"
        },
        {
          "output_type": "display_data",
          "data": {
            "image/png": "[encoded data removed]",
            "text/plain": [
              "<Figure size 432x288 with 1 Axes>"
            ]
          },
          "metadata": {
            "tags": [],
            "needs_background": "light"
          }
        },
        {
          "output_type": "stream",
          "text": [
            "****************************************************************************************************\n",
            "Which of the following match above?\n",
            "Predicted index: 12, name: character02, actual: character14\n"
          ],
          "name": "stdout"
        },
        {
          "output_type": "stream",
          "text": [
            "/usr/local/lib/python3.6/dist-packages/ipykernel_launcher.py:32: UserWarning: You have used the `textcoords` kwarg, but not the `xytext` kwarg.  This can lead to surprising results.\n"
          ],
          "name": "stderr"
        },
        {
          "output_type": "display_data",
          "data": {
            "image/png": "[encoded data removed]",
            "text/plain": [
              "<Figure size 720x720 with 20 Axes>"
            ]
          },
          "metadata": {
            "tags": [],
            "needs_background": "light"
          }
        }
      ]
    },
    {
      "cell_type": "code",
      "metadata": {
        "id": "TCtGuZiKsRUa",
        "colab_type": "code",
        "colab": {
          "base_uri": "https://localhost:8080/",
          "height": 34
        },
        "outputId": "b15b0c0a-0e7d-4b76-eeb4-943c49874b22"
      },
      "source": [
        "val_acc = test_model(siamese_model, rounds=30)\n",
        "print('Validation accuracy is: {:.2f}'.format(val_acc))"
      ],
      "execution_count": null,
      "outputs": [
        {
          "output_type": "stream",
          "text": [
            "Validation accuracy is: 0.58\n"
          ],
          "name": "stdout"
        }
      ]
    },
    {
      "cell_type": "code",
      "metadata": {
        "id": "OKm4_t6wuT8P",
        "colab_type": "code",
        "colab": {
          "base_uri": "https://localhost:8080/",
          "height": 890
        },
        "outputId": "467a3014-7d8f-4d79-955f-27ba4738d18f"
      },
      "source": [
        "test_alphabets = glob('{}/images_evaluation/*'.format(dataset_dir))\n",
        "# create train and validation set\n",
        "testset={}\n",
        "for alph in test_alphabets:\n",
        "    dirs = glob('{}/*'.format(alph))\n",
        "    alphabet = {}\n",
        "    for dirname in dirs:\n",
        "        alphabet[dirname] = glob('{}/*'.format(dirname))\n",
        "    testset[alph] = alphabet        \n",
        "\n",
        "display_validation_test(siamese_model, testset)"
      ],
      "execution_count": null,
      "outputs": [
        {
          "output_type": "stream",
          "text": [
            "Alphabet: Avesta\n"
          ],
          "name": "stdout"
        },
        {
          "output_type": "stream",
          "text": [
            "/usr/local/lib/python3.6/dist-packages/ipykernel_launcher.py:19: UserWarning: You have used the `textcoords` kwarg, but not the `xytext` kwarg.  This can lead to surprising results.\n"
          ],
          "name": "stderr"
        },
        {
          "output_type": "display_data",
          "data": {
            "image/png": "[encoded data removed]",
            "text/plain": [
              "<Figure size 432x288 with 1 Axes>"
            ]
          },
          "metadata": {
            "tags": [],
            "needs_background": "light"
          }
        },
        {
          "output_type": "stream",
          "text": [
            "****************************************************************************************************\n",
            "Which of the following match above?\n",
            "Predicted index: 19, name: character25, actual: character25\n"
          ],
          "name": "stdout"
        },
        {
          "output_type": "stream",
          "text": [
            "/usr/local/lib/python3.6/dist-packages/ipykernel_launcher.py:32: UserWarning: You have used the `textcoords` kwarg, but not the `xytext` kwarg.  This can lead to surprising results.\n"
          ],
          "name": "stderr"
        },
        {
          "output_type": "display_data",
          "data": {
            "image/png": "[encoded data removed]",
            "text/plain": [
              "<Figure size 720x720 with 20 Axes>"
            ]
          },
          "metadata": {
            "tags": [],
            "needs_background": "light"
          }
        }
      ]
    },
    {
      "cell_type": "code",
      "metadata": {
        "id": "XK6MxTHyu21Y",
        "colab_type": "code",
        "colab": {
          "base_uri": "https://localhost:8080/",
          "height": 34
        },
        "outputId": "7750226b-04fc-4a19-82be-0ee418811082"
      },
      "source": [
        "val_acc = test_model(siamese_model, dataset=testset, rounds=30)\n",
        "print('Accuracy on testset is: {:.2f}'.format(val_acc))\n"
      ],
      "execution_count": null,
      "outputs": [
        {
          "output_type": "stream",
          "text": [
            "Accuracy on testset is: 0.45\n"
          ],
          "name": "stdout"
        }
      ]
    }
  ]
}